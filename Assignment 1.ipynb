{
 "cells": [
  {
   "cell_type": "code",
   "execution_count": 9,
   "id": "6b4e36d5",
   "metadata": {},
   "outputs": [],
   "source": [
    "###1. In the below elements which of them are values or an expression? eg:- values can be\n",
    "##integer or string and expressions will be mathematical operators.\n",
    "##*\n",
    "##&#39;hello&#39;\n",
    "##-87.8\n",
    "##-\n",
    "##/\n",
    "##+\n",
    "##6"
   ]
  },
  {
   "cell_type": "code",
   "execution_count": 8,
   "id": "a8dbda68",
   "metadata": {},
   "outputs": [],
   "source": [
    "##* it is expression\n",
    "##'hello' is value\n",
    "##-87.8 is value\n",
    "##- is expression\n",
    "##/ is expression\n",
    "##+ is expression\n",
    "##6 is value"
   ]
  },
  {
   "cell_type": "code",
   "execution_count": 6,
   "id": "bd219005",
   "metadata": {},
   "outputs": [],
   "source": [
    "##2. What is the difference between string and variable?\n",
    "##string is a data type in the python for example if we have to write in some statement in english language we write it under the string data type.if we have to type hello world \n",
    "##in python we will type it in string'hello world',whereas variables are used in python to store data.for example:a=2,b=5.4,c='ineuron'.\n",
    " ##   here a,b,c are variables.Every time a variable is called its value will come."
   ]
  },
  {
   "cell_type": "code",
   "execution_count": 5,
   "id": "3afafd42",
   "metadata": {},
   "outputs": [],
   "source": [
    "##3. Describe three different data types.\n",
    "##there are many kind of datatype in python for example:integer,float,string,boolion,complex\n",
    "##integer:\n",
    "##it is the datatype for numbers for example all the number form -infinity to +infinity comes under the integer datatype\n",
    "##float:\n",
    "##the values which are in the decimal form and not in the whole comes into the category of float for example 3.122,7.8, are all \n",
    "##in the category of float\n",
    "##boolion:\n",
    "##only two type of values come under the boolion data type.one is True and other one is False.The mathematical value of True is 1 and \n",
    "##of False is 0."
   ]
  },
  {
   "cell_type": "raw",
   "id": "a7497658",
   "metadata": {},
   "source": [
    "4. What is an expression made up of? What do all expressions do?\n",
    "ans-expression are made up of constants which includes data type string and integers,"
   ]
  },
  {
   "cell_type": "raw",
   "id": "30b82aa9",
   "metadata": {},
   "source": [
    "5. This assignment statements, like spam = 10. What is the difference between an\n",
    "expression and a statement?\n",
    "ans:spam =10 is the statement but not an expression.there is difference between expression and statement.expression is the \n",
    "combination of operator,constant,function and variable,which on combination gives the value but the statement is a line in \n",
    "programm which does not give any value.All expressions are the statement but not all the statement are expreesion.So it can \n",
    "be said expressions are special form of the statement."
   ]
  },
  {
   "cell_type": "raw",
   "id": "67e3d84e",
   "metadata": {},
   "source": [
    "6. After running the following code, what does the variable bacon contain?\n",
    "bacon = 22\n",
    "bacon + 1\n",
    "ans-after running this code bacon will contain only 22 and not 23,we can see this in the following cell"
   ]
  },
  {
   "cell_type": "code",
   "execution_count": 10,
   "id": "4cc817b6",
   "metadata": {},
   "outputs": [
    {
     "data": {
      "text/plain": [
       "22"
      ]
     },
     "execution_count": 10,
     "metadata": {},
     "output_type": "execute_result"
    }
   ],
   "source": [
    "bacon=22\n",
    "bacon+1\n",
    "bacon"
   ]
  },
  {
   "cell_type": "raw",
   "id": "32c4d093",
   "metadata": {},
   "source": [
    "7. What should the values of the following two terms be?\n"
   ]
  },
  {
   "cell_type": "code",
   "execution_count": 11,
   "id": "7c1d69d8",
   "metadata": {},
   "outputs": [
    {
     "data": {
      "text/plain": [
       "'spamspamspam'"
      ]
     },
     "execution_count": 11,
     "metadata": {},
     "output_type": "execute_result"
    }
   ],
   "source": [
    "'spam'+'spamspam'"
   ]
  },
  {
   "cell_type": "code",
   "execution_count": 12,
   "id": "89fcba1a",
   "metadata": {},
   "outputs": [
    {
     "data": {
      "text/plain": [
       "'spamspamspam'"
      ]
     },
     "execution_count": 12,
     "metadata": {},
     "output_type": "execute_result"
    }
   ],
   "source": [
    "'spam'*3"
   ]
  },
  {
   "cell_type": "raw",
   "id": "3ccafbd7",
   "metadata": {},
   "source": [
    "8. Why is eggs a valid variable name while 100 is invalid?\n",
    "ans-Variable names need to start with a letter or an underscore, so 100 is considered an invalid variable name."
   ]
  },
  {
   "cell_type": "raw",
   "id": "2ca1b915",
   "metadata": {},
   "source": [
    "9. What three functions can be used to get the integer, floating-point number, or string\n",
    "version of a value?\n",
    "ans:to get the integer value int() is used,to get the string version we use '' or str() and to get floating point number we use float()"
   ]
  },
  {
   "cell_type": "raw",
   "id": "583d63af",
   "metadata": {},
   "source": [
    "10. Why does this expression cause an error? How can you fix it?\n",
    "'i have eaten'+99+'burritos'\n",
    "ans:concatination can be performed ib between the string datatypes here 99 is integer\n",
    "better method to do it will be:'i have eaten'+'99'+'burritos'"
   ]
  },
  {
   "cell_type": "code",
   "execution_count": null,
   "id": "a9590d85",
   "metadata": {},
   "outputs": [],
   "source": []
  }
 ],
 "metadata": {
  "kernelspec": {
   "display_name": "Python 3 (ipykernel)",
   "language": "python",
   "name": "python3"
  },
  "language_info": {
   "codemirror_mode": {
    "name": "ipython",
    "version": 3
   },
   "file_extension": ".py",
   "mimetype": "text/x-python",
   "name": "python",
   "nbconvert_exporter": "python",
   "pygments_lexer": "ipython3",
   "version": "3.9.12"
  }
 },
 "nbformat": 4,
 "nbformat_minor": 5
}
